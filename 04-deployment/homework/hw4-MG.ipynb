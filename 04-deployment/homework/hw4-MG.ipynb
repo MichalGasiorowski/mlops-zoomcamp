{
 "cells": [
  {
   "cell_type": "code",
   "execution_count": 2,
   "metadata": {
    "collapsed": true,
    "pycharm": {
     "name": "#%%\n"
    }
   },
   "outputs": [],
   "source": [
    "import pickle\n",
    "import pandas as pd"
   ]
  },
  {
   "cell_type": "code",
   "execution_count": 158,
   "outputs": [
    {
     "name": "stdout",
     "output_type": "stream",
     "text": [
      "mlflow==1.26.0\r\n"
     ]
    }
   ],
   "source": [
    "!pip freeze | grep flow"
   ],
   "metadata": {
    "collapsed": false,
    "pycharm": {
     "name": "#%%\n"
    }
   }
  },
  {
   "cell_type": "code",
   "execution_count": 9,
   "outputs": [
    {
     "name": "stdout",
     "output_type": "stream",
     "text": [
      "scikit-learn==1.0.2\r\n"
     ]
    }
   ],
   "source": [
    "!pip freeze | grep scikit-learn"
   ],
   "metadata": {
    "collapsed": false,
    "pycharm": {
     "name": "#%%\n"
    }
   }
  },
  {
   "cell_type": "code",
   "execution_count": 10,
   "outputs": [],
   "source": [
    "with open('model.bin', 'rb') as f_in:\n",
    "    dv, lr = pickle.load(f_in)"
   ],
   "metadata": {
    "collapsed": false,
    "pycharm": {
     "name": "#%%\n"
    }
   }
  },
  {
   "cell_type": "code",
   "execution_count": 11,
   "outputs": [],
   "source": [
    "categorical = ['PUlocationID', 'DOlocationID']\n",
    "\n",
    "def read_data(filename):\n",
    "    df = pd.read_parquet(filename)\n",
    "\n",
    "    df['duration'] = df.dropOff_datetime - df.pickup_datetime\n",
    "    df['duration'] = df.duration.dt.total_seconds() / 60\n",
    "\n",
    "    df = df[(df.duration >= 1) & (df.duration <= 60)].copy()\n",
    "\n",
    "    df[categorical] = df[categorical].fillna(-1).astype('int').astype('str')\n",
    "\n",
    "    return df"
   ],
   "metadata": {
    "collapsed": false,
    "pycharm": {
     "name": "#%%\n"
    }
   }
  },
  {
   "cell_type": "code",
   "execution_count": 5,
   "outputs": [],
   "source": [
    "df = read_data('https://nyc-tlc.s3.amazonaws.com/trip+data/fhv_tripdata_2021-02.parquet')"
   ],
   "metadata": {
    "collapsed": false,
    "pycharm": {
     "name": "#%%\n"
    }
   }
  },
  {
   "cell_type": "code",
   "execution_count": 17,
   "outputs": [],
   "source": [
    "def predict(df, dv, lr):\n",
    "    dicts = df[categorical].to_dict(orient='records')\n",
    "    X_val = dv.transform(dicts)\n",
    "    y_pred = lr.predict(X_val)\n",
    "\n",
    "    return y_pred"
   ],
   "metadata": {
    "collapsed": false,
    "pycharm": {
     "name": "#%%\n"
    }
   }
  },
  {
   "cell_type": "markdown",
   "source": [
    "## Q1. Notebook\n",
    "\n",
    "We'll start with the same notebook we ended up with in homework 1.\n",
    "\n",
    "We cleaned it a little bit and kept only the scoring part. Now it's in [homework/starter.ipynb](homework/starter.ipynb).\n",
    "\n",
    "Run this notebook for the February 2021 FVH data.\n",
    "\n",
    "What's the mean predicted duration for this dataset?\n",
    "\n",
    "* 11.19\n",
    "* 16.19\n",
    "* 21.19\n",
    "* 26.19"
   ],
   "metadata": {
    "collapsed": false,
    "pycharm": {
     "name": "#%% md\n"
    }
   }
  },
  {
   "cell_type": "code",
   "execution_count": 18,
   "outputs": [
    {
     "name": "stdout",
     "output_type": "stream",
     "text": [
      "Mean predicted duration = 16.19\n"
     ]
    }
   ],
   "source": [
    "y_pred = predict(df, dv, lr)\n",
    "print(f'Mean predicted duration = {y_pred.mean():.2f}')"
   ],
   "metadata": {
    "collapsed": false,
    "pycharm": {
     "name": "#%%\n"
    }
   }
  },
  {
   "cell_type": "markdown",
   "source": [
    "Q1 answer :\n",
    "--> B) 16.19"
   ],
   "metadata": {
    "collapsed": false,
    "pycharm": {
     "name": "#%% md\n"
    }
   }
  },
  {
   "cell_type": "markdown",
   "source": [
    "## Q2. Preparing the output\n",
    "\n",
    "Like in the course videos, we want to prepare the dataframe with the output.\n",
    "\n",
    "First, let's create an artificial `ride_id` column:\n",
    "\n",
    "```python\n",
    "df['ride_id'] = f'{year:04d}/{month:02d}_' + df.index.astype('str')\n",
    "```\n",
    "\n",
    "Next, write the ride id and the predictions to a dataframe with results.\n",
    "\n",
    "Save it as parquet:\n",
    "\n",
    "```python\n",
    "df_result.to_parquet(\n",
    "    output_file,\n",
    "    engine='pyarrow',\n",
    "    compression=None,\n",
    "    index=False\n",
    ")\n",
    "```\n",
    "\n",
    "What's the size of the output file?\n",
    "\n",
    "* 9M\n",
    "* 19M\n",
    "* 29M\n",
    "* 39M\n",
    "\n",
    "Make sure you use the snippet above for saving the file. It should contain only these two columns. For this question, don't change the\n",
    "dtypes of the columns and use pyarrow, not fastparquet.\n"
   ],
   "metadata": {
    "collapsed": false,
    "pycharm": {
     "name": "#%% md\n"
    }
   }
  },
  {
   "cell_type": "code",
   "execution_count": 132,
   "outputs": [],
   "source": [
    "def preprocess_data(df):\n",
    "    # df['ride_id'] = f'{year:04d}/{month:02d}_' + df.index.astype('str')\n",
    "    df_copied = df.copy()\n",
    "    df_copied[\"pickup_yyyy_mm\"] = pd.to_datetime(df_copied['pickup_datetime']).dt.strftime('%Y/%m')\n",
    "    #df_copied[\"ride_id\"] = df_copied[\"pickup_yyyy_mm\"] + \"_\" + df_copied.index.astype('str')\n",
    "    # apply has to be used\n",
    "    df_copied['ride_id'] = df_copied.apply(lambda row: row[\"pickup_yyyy_mm\"] + \"_\" + str(row.name) , axis=1)\n",
    "\n",
    "    return df_copied\n"
   ],
   "metadata": {
    "collapsed": false,
    "pycharm": {
     "name": "#%%\n"
    }
   }
  },
  {
   "cell_type": "code",
   "execution_count": 148,
   "outputs": [
    {
     "name": "stderr",
     "output_type": "stream",
     "text": [
      "/tmp/ipykernel_69852/251843148.py:4: SettingWithCopyWarning: \n",
      "A value is trying to be set on a copy of a slice from a DataFrame.\n",
      "Try using .loc[row_indexer,col_indexer] = value instead\n",
      "\n",
      "See the caveats in the documentation: https://pandas.pydata.org/pandas-docs/stable/user_guide/indexing.html#returning-a-view-versus-a-copy\n",
      "  df_result['y_pred'] = y_pred.tolist()\n"
     ]
    },
    {
     "data": {
      "text/plain": "     ride_id     y_pred\n1  2021/02_1  14.539865\n2  2021/02_2  13.740422\n3  2021/02_3  15.593339\n4  2021/02_4  15.188118\n5  2021/02_5  13.817206",
      "text/html": "<div>\n<style scoped>\n    .dataframe tbody tr th:only-of-type {\n        vertical-align: middle;\n    }\n\n    .dataframe tbody tr th {\n        vertical-align: top;\n    }\n\n    .dataframe thead th {\n        text-align: right;\n    }\n</style>\n<table border=\"1\" class=\"dataframe\">\n  <thead>\n    <tr style=\"text-align: right;\">\n      <th></th>\n      <th>ride_id</th>\n      <th>y_pred</th>\n    </tr>\n  </thead>\n  <tbody>\n    <tr>\n      <th>1</th>\n      <td>2021/02_1</td>\n      <td>14.539865</td>\n    </tr>\n    <tr>\n      <th>2</th>\n      <td>2021/02_2</td>\n      <td>13.740422</td>\n    </tr>\n    <tr>\n      <th>3</th>\n      <td>2021/02_3</td>\n      <td>15.593339</td>\n    </tr>\n    <tr>\n      <th>4</th>\n      <td>2021/02_4</td>\n      <td>15.188118</td>\n    </tr>\n    <tr>\n      <th>5</th>\n      <td>2021/02_5</td>\n      <td>13.817206</td>\n    </tr>\n  </tbody>\n</table>\n</div>"
     },
     "execution_count": 148,
     "metadata": {},
     "output_type": "execute_result"
    }
   ],
   "source": [
    "df_copied = preprocess_data(df)\n",
    "\n",
    "df_result = df_copied[['ride_id']]\n",
    "df_result['y_pred'] = y_pred.tolist()\n",
    "\n",
    "df_result.head()\n"
   ],
   "metadata": {
    "collapsed": false,
    "pycharm": {
     "name": "#%%\n"
    }
   }
  },
  {
   "cell_type": "code",
   "execution_count": 142,
   "outputs": [],
   "source": [
    "df_result.to_parquet(\n",
    "    'df_result.parquet',\n",
    "    engine='pyarrow',\n",
    "    compression=None,\n",
    "    index=False\n",
    ")"
   ],
   "metadata": {
    "collapsed": false,
    "pycharm": {
     "name": "#%%\n"
    }
   }
  },
  {
   "cell_type": "code",
   "execution_count": 147,
   "outputs": [
    {
     "name": "stdout",
     "output_type": "stream",
     "text": [
      "19M\tdf_result.parquet\r\n"
     ]
    }
   ],
   "source": [
    "!du -BM df_result.parquet"
   ],
   "metadata": {
    "collapsed": false,
    "pycharm": {
     "name": "#%%\n"
    }
   }
  },
  {
   "cell_type": "markdown",
   "source": [
    "What's the size of the output file?\n",
    "\n",
    "* 9M\n",
    "* 19M\n",
    "* 29M\n",
    "* 39M\n",
    "\n",
    "Answer:\n",
    "B) 19M"
   ],
   "metadata": {
    "collapsed": false,
    "pycharm": {
     "name": "#%% md\n"
    }
   }
  },
  {
   "cell_type": "markdown",
   "source": [
    "## Q3. Creating the scoring script\n",
    "\n",
    "Now let's turn the notebook into a script.\n",
    "\n",
    "Which command you need to execute for that?\n",
    "\n"
   ],
   "metadata": {
    "collapsed": false,
    "pycharm": {
     "name": "#%% md\n"
    }
   }
  },
  {
   "cell_type": "markdown",
   "source": [],
   "metadata": {
    "collapsed": false,
    "pycharm": {
     "name": "#%% md\n"
    }
   }
  },
  {
   "cell_type": "markdown",
   "source": [
    "Q4. Virtual environment\n",
    "\n",
    "Now let's put everything into a virtual environment. We'll use pipenv for that.\n",
    "\n",
    "Install all the required libraries. Pay attention to the Scikit-Learn version: check the starter notebook for details.\n",
    "\n",
    "After installing the libraries, pipenv creates two files: Pipfile and Pipfile.lock. The Pipfile.lock file keeps the hashes of the dependencies we use for the virtual env.\n",
    "\n",
    "What's the first hash for the Scikit-Learn dependency?"
   ],
   "metadata": {
    "collapsed": false,
    "pycharm": {
     "name": "#%% md\n"
    }
   }
  },
  {
   "cell_type": "markdown",
   "source": [
    "Answer:\n",
    "08ef968f6b72033c16c479c966bf37ccd49b06ea91b765e1cc27afefe723920b"
   ],
   "metadata": {
    "collapsed": false,
    "pycharm": {
     "name": "#%% md\n"
    }
   }
  },
  {
   "cell_type": "markdown",
   "source": [
    "## Q5. Parametrize the script\n",
    "\n",
    "Let's now make the script configurable via CLI. We'll create two\n",
    "parameters: year and month.\n",
    "\n",
    "Run the script for March 2021.\n",
    "\n",
    "What's the mean predicted duration?\n",
    "\n",
    "* 11.29\n",
    "* 16.29\n",
    "* 21.29\n",
    "* 26.29\n",
    "\n",
    "Hint: just add a print statement to your script.\n",
    "\n"
   ],
   "metadata": {
    "collapsed": false,
    "pycharm": {
     "name": "#%% md\n"
    }
   }
  },
  {
   "cell_type": "code",
   "execution_count": 161,
   "outputs": [
    {
     "name": "stdout",
     "output_type": "stream",
     "text": [
      "23:44:05.686 | INFO    | prefect.engine - Created flow run 'innocent-macaque' for flow 'ride-duration-prediction'\r\n",
      "23:44:05.686 | INFO    | Flow run 'innocent-macaque' - Using task runner 'ConcurrentTaskRunner'\r\n",
      "23:44:05.693 | WARNING | Flow run 'innocent-macaque' - No default storage is configured on the server. Results from this flow run will be stored in a temporary directory in its runtime environment.\r\n",
      "23:44:05.728 | INFO    | Flow run 'innocent-macaque' - Created task run 'apply_model-b21fdc82-0' for task 'apply_model'\r\n",
      "23:44:05.753 | INFO    | Task run 'apply_model-b21fdc82-0' - reading the data from https://nyc-tlc.s3.amazonaws.com/trip+data/fhv_tripdata_2021-03.parquet...\r\n",
      "23:44:21.152 | INFO    | Task run 'apply_model-b21fdc82-0' - df columns: Index(['dispatching_base_num', 'pickup_datetime', 'dropOff_datetime',\r\n",
      "       'PUlocationID', 'DOlocationID', 'SR_Flag', 'Affiliated_base_number',\r\n",
      "       'duration', 'pickup_yyyy_mm', 'ride_id'],\r\n",
      "      dtype='object') \r\n",
      "23:44:24.918 | INFO    | Task run 'apply_model-b21fdc82-0' - loading the model\r\n",
      "23:44:25.571 | INFO    | Task run 'apply_model-b21fdc82-0' - applying the model...\r\n",
      "23:44:27.181 | INFO    | Task run 'apply_model-b21fdc82-0' - Mean predicted duration = 16.30\r\n",
      "23:44:27.181 | INFO    | Task run 'apply_model-b21fdc82-0' - saving the result to s3://nyc-duration-prediction-enkidupal/taxi_type=fhv/year=2021/month=03/79d7d720-8e32-45eb-9ea1-04f118eb447e.parquet...\r\n",
      "23:44:30.802 | INFO    | Task run 'apply_model-b21fdc82-0' - Finished in state Completed()\r\n",
      "23:44:30.816 | INFO    | Flow run 'innocent-macaque' - Finished in state Completed('All states completed.')\r\n"
     ]
    }
   ],
   "source": [
    "!python hw4-MG.py 2021 3"
   ],
   "metadata": {
    "collapsed": false,
    "pycharm": {
     "name": "#%%\n"
    }
   }
  },
  {
   "cell_type": "markdown",
   "source": [
    "23:44:27.181 | INFO    | Task run 'apply_model-b21fdc82-0' - Mean predicted duration = 16.30\n",
    "\n",
    "Answer:\n",
    "B) 16.29"
   ],
   "metadata": {
    "collapsed": false,
    "pycharm": {
     "name": "#%% md\n"
    }
   }
  },
  {
   "cell_type": "markdown",
   "source": [
    "## Q6. Docker contaner\n",
    "\n",
    "Finally, we'll package the script in the docker container.\n",
    "For that, you'll need to use a base image that we prepared.\n",
    "\n",
    "This is how it looks like:\n",
    "\n",
    "```\n",
    "FROM python:3.9.7-slim\n",
    "\n",
    "WORKDIR /app\n",
    "COPY [ \"model2.bin\", \"model.bin\" ]\n",
    "```\n",
    "\n",
    "(see [`homework/Dockerfile`](homework/Dockerfile))\n",
    "\n",
    "We pushed it to [`agrigorev/zoomcamp-model:mlops-3.9.7-slim`](https://hub.docker.com/layers/zoomcamp-model/agrigorev/zoomcamp-model/mlops-3.9.7-slim/images/sha256-7fac33c783cc6018356ce16a4b408f6c977b55a4df52bdb6c4d0215edf83af5d?context=explore),\n",
    "which you should use as your base image.\n",
    "\n",
    "That is, this is how your Dockerfile should start:\n",
    "\n",
    "```docker\n",
    "FROM agrigorev/zoomcamp-model:mlops-3.9.7-slim\n",
    "\n",
    "# do stuff here\n",
    "```\n",
    "\n",
    "This image already has a pickle file with a dictionary vectorizer\n",
    "and a model. You will need to use them.\n",
    "\n",
    "Important: don't copy the model to the docker image. You will need\n",
    "to use the pickle file already in the image.\n",
    "\n",
    "Now run the script with docker. What's the mean predicted duration\n",
    "for April 2021?\n",
    "\n",
    "\n",
    "* 9.96\n",
    "* 16.55\n",
    "* 25.96\n",
    "* 36.55\n",
    "\n"
   ],
   "metadata": {
    "collapsed": false,
    "pycharm": {
     "name": "#%% md\n"
    }
   }
  },
  {
   "cell_type": "markdown",
   "source": [
    "Updated Dockerfile:"
   ],
   "metadata": {
    "collapsed": false,
    "pycharm": {
     "name": "#%% md\n"
    }
   }
  },
  {
   "cell_type": "code",
   "execution_count": 160,
   "outputs": [
    {
     "name": "stdout",
     "output_type": "stream",
     "text": [
      "FROM agrigorev/zoomcamp-model:mlops-3.9.7-slim\r\n",
      "\r\n",
      "RUN pip install -U pip\r\n",
      "RUN pip install pipenv\r\n",
      "\r\n",
      "WORKDIR /app\r\n",
      "\r\n",
      "COPY [ \"Pipfile\", \"Pipfile.lock\", \"./\" ]\r\n",
      "\r\n",
      "RUN pipenv install --system --deploy\r\n",
      "\r\n",
      "COPY [ \"hw4-MG.py\", \"./\" ]\r\n",
      "\r\n",
      "ENTRYPOINT [\"python\", \"hw4-MG.py\"]\r\n"
     ]
    }
   ],
   "source": [
    "!cat Dockerfile"
   ],
   "metadata": {
    "collapsed": false,
    "pycharm": {
     "name": "#%%\n"
    }
   }
  },
  {
   "cell_type": "markdown",
   "source": [
    "To run it and pass arguments, use:\n",
    "`\n",
    "docker run -it --rm \\\n",
    "    -v /home/michal/.aws:/root/.aws \\\n",
    "    mlops-zoomcamp-enkidupal:v1 \\\n",
    "    2021 4\n",
    "`\n",
    "specyfing volume to docker, so python script has access to aws credentials inside docker container."
   ],
   "metadata": {
    "collapsed": false,
    "pycharm": {
     "name": "#%% md\n"
    }
   }
  },
  {
   "cell_type": "markdown",
   "source": [
    "After running `docker run -it --rm \\\n",
    "    -v /home/michal/.aws:/root/.aws \\\n",
    "    mlops-zoomcamp-enkidupal:v1 \\\n",
    "    2021 4`\n",
    "the flow is run and mean prediction is being output.\n",
    "21:29:54.266 | INFO    | Task run 'apply_model-b21fdc82-0' - Mean predicted duration = 9.97\n",
    "Answer:\n",
    "A) 9.96"
   ],
   "metadata": {
    "collapsed": false,
    "pycharm": {
     "name": "#%% md\n"
    }
   }
  },
  {
   "cell_type": "markdown",
   "source": [
    "To upload result to the cloud: ( S3 here )\n",
    "1. Create bucket in S3\n",
    "2. Update script to parametrize output_file based on run_id and provide bucket_id to S3 bucket :\n",
    "`    output_file = f's3://nyc-duration-prediction-enkidupal/taxi_type={taxi_type}/year={year:04d}/month={month:02d}/{run_id}.parquet'\n",
    "`\n",
    "The result will be saved to s3 in:\n",
    "`df_result.to_parquet(output_file, index=False)`"
   ],
   "metadata": {
    "collapsed": false,
    "pycharm": {
     "name": "#%% md\n"
    }
   }
  }
 ],
 "metadata": {
  "kernelspec": {
   "display_name": "Python 3",
   "language": "python",
   "name": "python3"
  },
  "language_info": {
   "codemirror_mode": {
    "name": "ipython",
    "version": 2
   },
   "file_extension": ".py",
   "mimetype": "text/x-python",
   "name": "python",
   "nbconvert_exporter": "python",
   "pygments_lexer": "ipython2",
   "version": "2.7.6"
  }
 },
 "nbformat": 4,
 "nbformat_minor": 0
}