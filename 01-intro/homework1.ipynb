{
 "cells": [
  {
   "cell_type": "code",
   "execution_count": 3,
   "id": "b2bd82d7",
   "metadata": {},
   "outputs": [
    {
     "name": "stdout",
     "output_type": "stream",
     "text": [
      "Python 3.10.4\r\n"
     ]
    }
   ],
   "source": [
    "!python -V"
   ]
  },
  {
   "cell_type": "code",
   "execution_count": 4,
   "id": "41062d8a",
   "metadata": {},
   "outputs": [],
   "source": [
    "import os\n",
    "import pickle\n",
    "import pandas as pd"
   ]
  },
  {
   "cell_type": "code",
   "execution_count": 6,
   "id": "4add538c",
   "metadata": {},
   "outputs": [],
   "source": [
    "import seaborn as sns\n",
    "import matplotlib.pyplot as plt"
   ]
  },
  {
   "cell_type": "code",
   "execution_count": 30,
   "id": "8b135c2b",
   "metadata": {},
   "outputs": [],
   "source": [
    "from sklearn.feature_extraction import DictVectorizer\n",
    "from sklearn.linear_model import LinearRegression\n",
    "from sklearn.linear_model import Lasso\n",
    "from sklearn.linear_model import Ridge\n",
    "\n",
    "from sklearn.metrics import mean_squared_error\n"
   ]
  },
  {
   "cell_type": "markdown",
   "id": "498a861c",
   "metadata": {},
   "source": [
    "## Download the data"
   ]
  },
  {
   "cell_type": "code",
   "execution_count": 24,
   "id": "4d522183",
   "metadata": {},
   "outputs": [],
   "source": [
    "import os\n",
    "# https://nyc-tlc.s3.amazonaws.com/trip+data/fhv_tripdata_2021-01.parquet\n",
    "tripdata_filenames = [\"fhv_tripdata_2021-01.parquet\", \"fhv_tripdata_2021-02.parquet\"]\n",
    "tripdata_filename_jan = tripdata_filenames[0]\n",
    "tripdata_filename_feb = tripdata_filenames[1]"
   ]
  },
  {
   "cell_type": "code",
   "execution_count": 23,
   "id": "2c5addb3",
   "metadata": {},
   "outputs": [
    {
     "name": "stdout",
     "output_type": "stream",
     "text": [
      "mkdir: cannot create directory ‘data’: File exists\n",
      "File fhv_tripdata_2021-01.parquet already exists!\n",
      "File fhv_tripdata_2021-02.parquet already exists!\n"
     ]
    }
   ],
   "source": [
    "!mkdir data\n",
    "for trip_filename in tripdata_filenames:\n",
    "    if not os.path.exists(f'data/{trip_filename}'):\n",
    "        print(f'Downloading {trip_filename}')\n",
    "        full_url = f'https://nyc-tlc.s3.amazonaws.com/trip+data/{trip_filename}'\n",
    "        !wget -P data $full_url\n",
    "    else:\n",
    "        print(f'File {trip_filename} already exists!')"
   ]
  },
  {
   "cell_type": "code",
   "execution_count": 111,
   "id": "20aa64d3",
   "metadata": {},
   "outputs": [],
   "source": [
    "def create_target(df):\n",
    "    df = df.copy()\n",
    "    df['duration'] = df.dropOff_datetime - df.pickup_datetime\n",
    "    df['duration'] = df.duration.dt.total_seconds() / 60\n",
    "    return df"
   ]
  },
  {
   "cell_type": "code",
   "execution_count": 110,
   "id": "e46af45f",
   "metadata": {},
   "outputs": [],
   "source": [
    "df_jan = pd.read_parquet(f'data/{tripdata_filename_jan}')"
   ]
  },
  {
   "cell_type": "code",
   "execution_count": 112,
   "id": "8e013caf",
   "metadata": {},
   "outputs": [
    {
     "data": {
      "text/html": [
       "<div>\n",
       "<style scoped>\n",
       "    .dataframe tbody tr th:only-of-type {\n",
       "        vertical-align: middle;\n",
       "    }\n",
       "\n",
       "    .dataframe tbody tr th {\n",
       "        vertical-align: top;\n",
       "    }\n",
       "\n",
       "    .dataframe thead th {\n",
       "        text-align: right;\n",
       "    }\n",
       "</style>\n",
       "<table border=\"1\" class=\"dataframe\">\n",
       "  <thead>\n",
       "    <tr style=\"text-align: right;\">\n",
       "      <th></th>\n",
       "      <th>dispatching_base_num</th>\n",
       "      <th>pickup_datetime</th>\n",
       "      <th>dropOff_datetime</th>\n",
       "      <th>PUlocationID</th>\n",
       "      <th>DOlocationID</th>\n",
       "      <th>SR_Flag</th>\n",
       "      <th>Affiliated_base_number</th>\n",
       "      <th>duration</th>\n",
       "    </tr>\n",
       "  </thead>\n",
       "  <tbody>\n",
       "    <tr>\n",
       "      <th>0</th>\n",
       "      <td>B00009</td>\n",
       "      <td>2021-01-01 00:27:00</td>\n",
       "      <td>2021-01-01 00:44:00</td>\n",
       "      <td>NaN</td>\n",
       "      <td>NaN</td>\n",
       "      <td>None</td>\n",
       "      <td>B00009</td>\n",
       "      <td>17.0</td>\n",
       "    </tr>\n",
       "    <tr>\n",
       "      <th>1</th>\n",
       "      <td>B00009</td>\n",
       "      <td>2021-01-01 00:50:00</td>\n",
       "      <td>2021-01-01 01:07:00</td>\n",
       "      <td>NaN</td>\n",
       "      <td>NaN</td>\n",
       "      <td>None</td>\n",
       "      <td>B00009</td>\n",
       "      <td>17.0</td>\n",
       "    </tr>\n",
       "    <tr>\n",
       "      <th>2</th>\n",
       "      <td>B00013</td>\n",
       "      <td>2021-01-01 00:01:00</td>\n",
       "      <td>2021-01-01 01:51:00</td>\n",
       "      <td>NaN</td>\n",
       "      <td>NaN</td>\n",
       "      <td>None</td>\n",
       "      <td>B00013</td>\n",
       "      <td>110.0</td>\n",
       "    </tr>\n",
       "  </tbody>\n",
       "</table>\n",
       "</div>"
      ],
      "text/plain": [
       "  dispatching_base_num     pickup_datetime    dropOff_datetime  PUlocationID  \\\n",
       "0               B00009 2021-01-01 00:27:00 2021-01-01 00:44:00           NaN   \n",
       "1               B00009 2021-01-01 00:50:00 2021-01-01 01:07:00           NaN   \n",
       "2               B00013 2021-01-01 00:01:00 2021-01-01 01:51:00           NaN   \n",
       "\n",
       "   DOlocationID SR_Flag Affiliated_base_number  duration  \n",
       "0           NaN    None                 B00009      17.0  \n",
       "1           NaN    None                 B00009      17.0  \n",
       "2           NaN    None                 B00013     110.0  "
      ]
     },
     "execution_count": 112,
     "metadata": {},
     "output_type": "execute_result"
    }
   ],
   "source": [
    "df_jan = create_target(df_jan)\n",
    "df_jan.head(3)"
   ]
  },
  {
   "cell_type": "markdown",
   "id": "fe81205b",
   "metadata": {},
   "source": [
    "## 1. Read the data for January.\n",
    "How many records are there?"
   ]
  },
  {
   "cell_type": "code",
   "execution_count": 113,
   "id": "94ef1d5c",
   "metadata": {},
   "outputs": [
    {
     "name": "stdout",
     "output_type": "stream",
     "text": [
      "There are 1154112 records in january dataframe.\n"
     ]
    }
   ],
   "source": [
    "print(f'There are {df_jan.shape[0]} records in january dataframe.')"
   ]
  },
  {
   "cell_type": "code",
   "execution_count": 114,
   "id": "0da1c8d6",
   "metadata": {},
   "outputs": [],
   "source": [
    "df_jan['duration'] = df_jan.dropOff_datetime - df_jan.pickup_datetime\n",
    "df_jan.duration = df_jan.duration.dt.total_seconds() / 60 "
   ]
  },
  {
   "cell_type": "markdown",
   "id": "c6166bdf",
   "metadata": {},
   "source": [
    "## 2 \n",
    "Now let's compute the duration variable. It should contain the duration of a ride in minutes.\n",
    "\n",
    "What's the average trip duration in January?"
   ]
  },
  {
   "cell_type": "code",
   "execution_count": 116,
   "id": "68818509",
   "metadata": {},
   "outputs": [
    {
     "data": {
      "text/plain": [
       "19.167224093791006"
      ]
     },
     "execution_count": 116,
     "metadata": {},
     "output_type": "execute_result"
    }
   ],
   "source": [
    "df_jan.duration.mean()"
   ]
  },
  {
   "cell_type": "markdown",
   "id": "7d396112",
   "metadata": {},
   "source": [
    "Filter the data, remove outliers - the trips with duration under 1 minute and over 60 minutes"
   ]
  },
  {
   "cell_type": "code",
   "execution_count": 117,
   "id": "2631e40b",
   "metadata": {},
   "outputs": [
    {
     "name": "stderr",
     "output_type": "stream",
     "text": [
      "/tmp/ipykernel_30136/3220815837.py:1: UserWarning: Boolean Series key will be reindexed to match DataFrame index.\n",
      "  df_jan = df[(df.duration >= 1) & (df_jan.duration <= 60)].copy()\n"
     ]
    },
    {
     "data": {
      "text/plain": [
       "dispatching_base_num      1109826\n",
       "pickup_datetime           1109826\n",
       "dropOff_datetime          1109826\n",
       "PUlocationID              1109826\n",
       "DOlocationID              1109826\n",
       "SR_Flag                         0\n",
       "Affiliated_base_number    1109053\n",
       "duration                  1109826\n",
       "dtype: int64"
      ]
     },
     "execution_count": 117,
     "metadata": {},
     "output_type": "execute_result"
    }
   ],
   "source": [
    "df_jan = df[(df.duration >= 1) & (df_jan.duration <= 60)].copy()\n",
    "df_jan.count()"
   ]
  },
  {
   "cell_type": "markdown",
   "id": "8c446e39",
   "metadata": {},
   "source": [
    "## 3 .  Missing values\n",
    "The features we'll use for our model are the pickup and dropoff location IDs.\n",
    "\n",
    "But they have a lot of missing values there. Let's replace them with \"-1\".\n",
    "\n",
    "What's the fractions of missing values for the pickup location ID? I.e. fraction of \"-1\"s after you filled the NAs."
   ]
  },
  {
   "cell_type": "code",
   "execution_count": 118,
   "id": "e4e0dda0",
   "metadata": {},
   "outputs": [],
   "source": [
    "df_jan['PUlocationID'] = df_jan['PUlocationID'].fillna(-1)\n",
    "df_jan['DOlocationID'] = df_jan['DOlocationID'].fillna(-1)\n",
    "#df[(df.PUlocationID.isna())]"
   ]
  },
  {
   "cell_type": "code",
   "execution_count": 119,
   "id": "8b445bde",
   "metadata": {},
   "outputs": [
    {
     "data": {
      "text/plain": [
       "927008"
      ]
     },
     "execution_count": 119,
     "metadata": {},
     "output_type": "execute_result"
    }
   ],
   "source": [
    "df_jan['PUlocationID'].value_counts(sort=True)[0]"
   ]
  },
  {
   "cell_type": "code",
   "execution_count": 120,
   "id": "802d0fcf",
   "metadata": {},
   "outputs": [
    {
     "name": "stdout",
     "output_type": "stream",
     "text": [
      "927008\n",
      "1109826\n"
     ]
    },
    {
     "data": {
      "text/plain": [
       "0.8352732770722617"
      ]
     },
     "execution_count": 120,
     "metadata": {},
     "output_type": "execute_result"
    }
   ],
   "source": [
    "#df[df.PUlocationID == -1].count()\n",
    "empty_minus_1_count = df_jan['PUlocationID'].value_counts(sort=True)[0]\n",
    "print(empty_minus_1_count)\n",
    "all_count = df_jan['PUlocationID'].shape[0]\n",
    "print(all_count)\n",
    "percent_with_missing_values = empty_minus_1_count / all_count\n",
    "percent_with_missing_values"
   ]
  },
  {
   "cell_type": "code",
   "execution_count": 121,
   "id": "d97ff268",
   "metadata": {},
   "outputs": [
    {
     "name": "stdout",
     "output_type": "stream",
     "text": [
      "Percent with missing PUlocationID values: 0.8352732770722617\n"
     ]
    }
   ],
   "source": [
    "print(f'Percent with missing PUlocationID values: {percent_with_missing_values}')"
   ]
  },
  {
   "cell_type": "code",
   "execution_count": 96,
   "id": "3f1b7c5b",
   "metadata": {},
   "outputs": [
    {
     "data": {
      "image/png": "[encoded data removed]",
      "text/plain": [
       "<Figure size 792x360 with 1 Axes>"
      ]
     },
     "metadata": {
      "needs_background": "light"
     },
     "output_type": "display_data"
    }
   ],
   "source": [
    "fig = plt.figure(figsize=(11,5))\n",
    "sns.histplot(df_jan.duration);"
   ]
  },
  {
   "cell_type": "markdown",
   "id": "3e03c896",
   "metadata": {},
   "source": [
    "## 4. One-hot encoding"
   ]
  },
  {
   "cell_type": "code",
   "execution_count": 123,
   "id": "3e25290a",
   "metadata": {},
   "outputs": [],
   "source": [
    "categorical = ['PUlocationID', 'DOlocationID']\n",
    "\n",
    "df_jan[categorical] = df_jan[categorical].astype(str)\n",
    "\n",
    "\n",
    "train_dicts = df_jan[categorical].to_dict(orient='records')\n",
    "\n",
    "dv = DictVectorizer()\n",
    "X_train = dv.fit_transform(train_dicts)"
   ]
  },
  {
   "cell_type": "code",
   "execution_count": 124,
   "id": "6b4ccc13",
   "metadata": {},
   "outputs": [
    {
     "data": {
      "text/plain": [
       "(1109826, 525)"
      ]
     },
     "execution_count": 124,
     "metadata": {},
     "output_type": "execute_result"
    }
   ],
   "source": [
    "X_train.shape"
   ]
  },
  {
   "cell_type": "code",
   "execution_count": 125,
   "id": "3c2b65e1",
   "metadata": {},
   "outputs": [
    {
     "data": {
      "text/plain": [
       "'Number of columns of the matrix : 525'"
      ]
     },
     "execution_count": 125,
     "metadata": {},
     "output_type": "execute_result"
    }
   ],
   "source": [
    "f'Number of columns of the matrix : {X_train.shape[1]}'"
   ]
  },
  {
   "cell_type": "markdown",
   "id": "531387e5",
   "metadata": {},
   "source": [
    "## 5. Training the model"
   ]
  },
  {
   "cell_type": "code",
   "execution_count": 127,
   "id": "87fe7e62",
   "metadata": {},
   "outputs": [
    {
     "name": "stdout",
     "output_type": "stream",
     "text": [
      "MSE: 10.528519395264997\n"
     ]
    }
   ],
   "source": [
    "target = 'duration'\n",
    "y_train = df_jan[target].values\n",
    "\n",
    "lr = LinearRegression()\n",
    "lr.fit(X_train, y_train)\n",
    "# Predict: \n",
    "y_pred = lr.predict(X_train)\n",
    "\n",
    "mse = mean_squared_error(y_train, y_pred, squared=False)\n",
    "print(f'MSE: {mse}')"
   ]
  },
  {
   "cell_type": "markdown",
   "id": "b9cc4979",
   "metadata": {},
   "source": [
    "## 6. Evaluating the model"
   ]
  },
  {
   "cell_type": "code",
   "execution_count": 126,
   "id": "b134c97b",
   "metadata": {},
   "outputs": [],
   "source": [
    "df_feb = pd.read_parquet(f'data/{tripdata_filename_feb}')\n",
    "\n",
    "df_feb = create_target(df_feb)\n",
    "\n",
    "# filter out the outliers\n",
    "df_feb = df_feb[(df_feb.duration >= 1) & (df_feb.duration <= 60)].copy()\n",
    "\n",
    "df_feb['PUlocationID'] = df_feb['PUlocationID'].fillna(-1)\n",
    "\n",
    "categorical = ['PUlocationID', 'DOlocationID']\n",
    "\n",
    "df_feb[categorical] = df_feb[categorical].astype(str)\n",
    "\n",
    "val_dicts = df_feb[categorical].to_dict(orient='records')\n",
    "\n",
    "X_val = dv.transform(val_dicts)\n"
   ]
  },
  {
   "cell_type": "code",
   "execution_count": 129,
   "id": "06b91cd8",
   "metadata": {},
   "outputs": [
    {
     "name": "stdout",
     "output_type": "stream",
     "text": [
      "RMSE on validation: 11.237143888450108\n"
     ]
    }
   ],
   "source": [
    "y_val = df_feb[target].values\n",
    "y_pred_val = lr.predict(X_val)\n",
    "# Calculate rmse between ground truth for data in the february and what the \n",
    "# linear model predicts, based on January data \n",
    "mse = mean_squared_error(y_val, y_pred_val, squared=False)\n",
    "\n",
    "print(f'RMSE on validation: {mse}')"
   ]
  }
 ],
 "metadata": {
  "kernelspec": {
   "display_name": "Python 3 (ipykernel)",
   "language": "python",
   "name": "python3"
  },
  "language_info": {
   "codemirror_mode": {
    "name": "ipython",
    "version": 3
   },
   "file_extension": ".py",
   "mimetype": "text/x-python",
   "name": "python",
   "nbconvert_exporter": "python",
   "pygments_lexer": "ipython3",
   "version": "3.10.4"
  }
 },
 "nbformat": 4,
 "nbformat_minor": 5
}
