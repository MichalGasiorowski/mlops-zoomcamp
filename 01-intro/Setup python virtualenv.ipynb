{
 "cells": [
  {
   "cell_type": "markdown",
   "id": "fe6097d6",
   "metadata": {
    "pycharm": {
     "name": "#%% md\n"
    }
   },
   "source": [
    "## Setup Python Environment for Machine Learning\n",
    "( https://www.kdnuggets.com/2019/02/setup-python-environment-machine-learning.html )"
   ]
  },
  {
   "cell_type": "markdown",
   "id": "af0c1c35",
   "metadata": {
    "pycharm": {
     "name": "#%% md\n"
    }
   },
   "source": [
    "### Setup pip: "
   ]
  },
  {
   "cell_type": "markdown",
   "id": "82b9b356",
   "metadata": {
    "pycharm": {
     "name": "#%% md\n"
    }
   },
   "source": [
    "sudo apt-get install python3-pip"
   ]
  },
  {
   "cell_type": "markdown",
   "id": "47b0cb0b",
   "metadata": {
    "pycharm": {
     "name": "#%% md\n"
    }
   },
   "source": [
    "Edit nano ~/.bashrc & add alias to use python3 when calling python : \n",
    "    \n",
    "`alias python='python3'`\n",
    "\n",
    "Save the file and reload your changes:\n",
    "\n",
    "`source ~/.bashrc`\n"
   ]
  },
  {
   "cell_type": "markdown",
   "id": "423d8de8",
   "metadata": {
    "pycharm": {
     "name": "#%% md\n"
    }
   },
   "source": [
    "### Create a virtual environment"
   ]
  },
  {
   "cell_type": "markdown",
   "id": "a6812dbc",
   "metadata": {
    "pycharm": {
     "name": "#%% md\n"
    }
   },
   "source": [
    "`sudo pip install virtualenv virtualenvwrapper`\n",
    "\n",
    "\n",
    "Edit ~/.bashrc  :\n",
    "\n",
    "export WORKON_HOME=$HOME/.virtualenvs\n",
    "\n",
    "export VIRTUALENVWRAPPER_PYTHON=/usr/bin/python3\n",
    "\n",
    "source /usr/local/bin/virtualenvwrapper.sh\n",
    "\n",
    "\n",
    "Save the file and reload your changes:\n",
    "\n",
    "`source ~/.bashrc`\n",
    "\n"
   ]
  },
  {
   "cell_type": "markdown",
   "id": "2877c8d0",
   "metadata": {
    "pycharm": {
     "name": "#%% md\n"
    }
   },
   "source": [
    "## To create virtual environment:\n",
    "\n",
    "\n",
    "`mkvirtualenv ml`\n",
    "\n"
   ]
  },
  {
   "cell_type": "markdown",
   "id": "69eb7575",
   "metadata": {
    "pycharm": {
     "name": "#%% md\n"
    }
   },
   "source": [
    "## To work on new environment:\n",
    "\n",
    "`workon ml`\n",
    "\n"
   ]
  },
  {
   "cell_type": "markdown",
   "id": "8a5e9046",
   "metadata": {
    "pycharm": {
     "name": "#%% md\n"
    }
   },
   "source": [
    "## To exit the virtualenv: "
   ]
  },
  {
   "cell_type": "markdown",
   "id": "2bb1ca84",
   "metadata": {
    "pycharm": {
     "name": "#%% md\n"
    }
   },
   "source": [
    "`deactivate`"
   ]
  }
 ],
 "metadata": {
  "kernelspec": {
   "display_name": "Python 3 (ipykernel)",
   "language": "python",
   "name": "python3"
  },
  "language_info": {
   "codemirror_mode": {
    "name": "ipython",
    "version": 3
   },
   "file_extension": ".py",
   "mimetype": "text/x-python",
   "name": "python",
   "nbconvert_exporter": "python",
   "pygments_lexer": "ipython3",
   "version": "3.10.4"
  }
 },
 "nbformat": 4,
 "nbformat_minor": 5
}